{
 "cells": [
  {
   "cell_type": "code",
   "execution_count": 8,
   "metadata": {},
   "outputs": [
    {
     "name": "stdout",
     "output_type": "stream",
     "text": [
      "32.0\n",
      "The GE train supplies 226800 Newtons of force\n",
      "A 1kg bomb supplies 90000000000000000 Joules\n",
      "The GE train does 22680000 Joules of work over 100 meters.\n"
     ]
    }
   ],
   "source": [
    "train_mass = 22680\n",
    "train_acceleration = 10\n",
    "train_distance = 100\n",
    "\n",
    "bomb_mass = 1\n",
    "def f_to_c(f_temp):\n",
    "    return (f_temp - 32) * 5/9\n",
    "f100_in_celsius = f_to_c(100)\n",
    "\n",
    "def c_to_f(c_temp):\n",
    "    return  (c_temp * 9/5) + 32\n",
    "\n",
    "c0_in_fahrenheit = c_to_f(0)\n",
    "print(c0_in_fahrenheit)\n",
    "\n",
    "\n",
    "#Use the force \n",
    "\n",
    "def get_force(mass, acceleration):\n",
    "    return  mass * acceleration\n",
    "train_force = get_force(train_mass, train_acceleration)\n",
    "\n",
    "print(\"The GE train supplies \" + str(train_force) + \n",
    "\" Newtons of force\")\n",
    "\n",
    "\n",
    "def get_energy(mass, c = 3*10**8):\n",
    "    return mass * c**2\n",
    "bomb_energy = get_energy(bomb_mass)\n",
    "\n",
    "print(\"A 1kg bomb supplies \" + str(bomb_energy) + \" Joules\")\n",
    "\n",
    "#Do the work \n",
    "def get_work(mass, acceleration, distance):\n",
    "    force = get_force(mass, acceleration)\n",
    "    return force * distance\n",
    "\n",
    "train_work = get_work(train_mass, train_acceleration, train_distance)\n",
    "\n",
    "print(\"The GE train does \" + str(train_work) +\" Joules of work over \" + str(train_distance) + \" meters.\")\n"
   ]
  },
  {
   "cell_type": "code",
   "execution_count": 6,
   "metadata": {},
   "outputs": [],
   "source": []
  },
  {
   "cell_type": "code",
   "execution_count": null,
   "metadata": {},
   "outputs": [],
   "source": []
  },
  {
   "cell_type": "code",
   "execution_count": null,
   "metadata": {},
   "outputs": [],
   "source": []
  }
 ],
 "metadata": {
  "kernelspec": {
   "display_name": "Python 3",
   "language": "python",
   "name": "python3"
  },
  "language_info": {
   "codemirror_mode": {
    "name": "ipython",
    "version": 3
   },
   "file_extension": ".py",
   "mimetype": "text/x-python",
   "name": "python",
   "nbconvert_exporter": "python",
   "pygments_lexer": "ipython3",
   "version": "3.7.6"
  }
 },
 "nbformat": 4,
 "nbformat_minor": 4
}
